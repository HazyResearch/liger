{
 "cells": [
  {
   "cell_type": "code",
   "execution_count": 1,
   "id": "178340d6",
   "metadata": {},
   "outputs": [
    {
     "name": "stderr",
     "output_type": "stream",
     "text": [
      "/hdd2/dyah/anaconda3/envs/liger/lib/python3.10/site-packages/tqdm/auto.py:22: TqdmWarning: IProgress not found. Please update jupyter and ipywidgets. See https://ipywidgets.readthedocs.io/en/stable/user_install.html\n",
      "  from .autonotebook import tqdm as notebook_tqdm\n"
     ]
    }
   ],
   "source": [
    "import os\n",
    "import torch\n",
    "\n",
    "import numpy as np\n",
    "\n",
    "from liger import Liger, Flyingsquid_Cluster\n",
    "\n",
    "from core import load_config\n",
    "from utils import evaluate_thresholds, cluster_embeddings"
   ]
  },
  {
   "cell_type": "code",
   "execution_count": 2,
   "id": "a466455f",
   "metadata": {},
   "outputs": [],
   "source": [
    "cfg = load_config('configs/spam.yaml')\n",
    "n_clusters = cfg['n_clusters']\n",
    "engine = \"ada\"\n",
    "dataset = cfg['dataset']\n",
    "thresholds = cfg['thresholds']\n",
    "T = cfg['T']\n",
    "embedding_path = cfg['embedding_path']\n",
    "data_path = embedding_path"
   ]
  },
  {
   "cell_type": "markdown",
   "id": "138c3b0b",
   "metadata": {},
   "source": [
    "Let's load L, Y matrix, and the embeddings"
   ]
  },
  {
   "cell_type": "code",
   "execution_count": 3,
   "id": "b364e701",
   "metadata": {},
   "outputs": [],
   "source": [
    "L_dev_raw_orig = torch.load(os.path.join(data_path, 'val_L.pt')).detach().cpu().numpy()\n",
    "Y_dev_raw = torch.load(os.path.join(data_path, 'val_Y.pt')).detach().cpu().numpy()\n",
    "Y_test_raw = torch.load(os.path.join(data_path, 'test_Y.pt')).detach().cpu().numpy()\n",
    "L_train_raw_orig = torch.load(os.path.join(data_path, 'train_L.pt')).detach().cpu().numpy()\n",
    "L_test_raw_orig = torch.load(os.path.join(data_path, 'test_L.pt')).detach().cpu().numpy()\n",
    "\n",
    "avg_embeddings_train = torch.load(os.path.join(embedding_path, 'train_feature.pt')).detach().cpu().numpy()\n",
    "avg_embeddings_dev = torch.load(os.path.join(embedding_path,'val_feature.pt')).detach().cpu().numpy()\n",
    "avg_embeddings_test = torch.load(os.path.join(embedding_path,'test_feature.pt')).detach().cpu().numpy()"
   ]
  },
  {
   "cell_type": "markdown",
   "id": "22fa5b2e",
   "metadata": {},
   "source": [
    "## Baseline: FlyingSquid without label expansion"
   ]
  },
  {
   "cell_type": "code",
   "execution_count": 4,
   "id": "d478587b",
   "metadata": {},
   "outputs": [],
   "source": [
    "neg_balances_to_try = np.arange(.01, .99, .05)\n",
    "tune_by = 'acc'\n",
    "T = 1"
   ]
  },
  {
   "cell_type": "code",
   "execution_count": 5,
   "id": "849bd2aa",
   "metadata": {},
   "outputs": [
    {
     "name": "stderr",
     "output_type": "stream",
     "text": [
      "/hdd2/dyah/anaconda3/envs/liger/lib/python3.10/site-packages/pgmpy/models/MarkovModel.py:8: FutureWarning: MarkovModel has been renamed to MarkovNetwork. Please use MarkovNetwork class, MarkovModel will be removed in future.\n",
      "  warnings.warn(\n"
     ]
    },
    {
     "name": "stdout",
     "output_type": "stream",
     "text": [
      "Dev Thresholds: [1, 1, 1, 1, 1, 1, 1, 1, 1, 1]\n",
      "Dev Acc: 85.00%\tPre: 95.35%\tRec: 75.93%\tF1: 84.54%\n",
      "Test Thresholds: [1, 1, 1, 1, 1, 1, 1, 1, 1, 1]\n",
      "Test Acc: 85.60%\tPre: 86.61%\tRec: 82.20%\tF1: 84.35%\n"
     ]
    }
   ],
   "source": [
    "L_train = L_train_raw_orig[:L_train_raw_orig.shape[0] - (L_train_raw_orig.shape[0] % T)]\n",
    "L_dev = L_dev_raw_orig[:L_dev_raw_orig.shape[0] - (L_dev_raw_orig.shape[0] % T)]\n",
    "L_test = L_test_raw_orig[:L_test_raw_orig.shape[0] - (L_test_raw_orig.shape[0] % T)]\n",
    "Y_dev = Y_dev_raw[:Y_dev_raw.shape[0] - (Y_dev_raw.shape[0] % T)]\n",
    "Y_test = Y_test_raw[:Y_test_raw.shape[0] - (Y_test_raw.shape[0] % T)]\n",
    "\n",
    "thresholds = [1 for i in range(L_train.shape[1])]\n",
    "\n",
    "m_per_task = L_train.shape[1]\n",
    "m = T * m_per_task\n",
    "v = T\n",
    "\n",
    "kmeans, embedding_groups, train_cluster_labels = cluster_embeddings(avg_embeddings_train, n_clusters)\n",
    "dev_cluster_labels = kmeans.predict(avg_embeddings_dev)\n",
    "test_cluster_labels = kmeans.predict(avg_embeddings_test) \n",
    "\n",
    "cluster_models = []\n",
    "for i in range(len(embedding_groups)):\n",
    "    cluster_models.append(Flyingsquid_Cluster(X=embedding_groups[i], mu=kmeans.cluster_centers_[i], T=T, m_per_task=m_per_task))\n",
    "    \n",
    "outputs = evaluate_thresholds(thresholds, cluster_models, neg_balances_to_try, \\\n",
    "    L_train, L_dev, L_test, \\\n",
    "    Y_dev, Y_test, train_cluster_labels, dev_cluster_labels, test_cluster_labels,\\\n",
    "    evaluate_test=False, tune_test=True, tune_by=tune_by)"
   ]
  },
  {
   "cell_type": "markdown",
   "id": "d8e23270",
   "metadata": {},
   "source": [
    "## LIGER: Expand labels via embeddings"
   ]
  },
  {
   "cell_type": "code",
   "execution_count": 6,
   "id": "f35650b9",
   "metadata": {},
   "outputs": [
    {
     "name": "stderr",
     "output_type": "stream",
     "text": [
      "/hdd2/dyah/anaconda3/envs/liger/lib/python3.10/site-packages/pgmpy/models/MarkovModel.py:8: FutureWarning: MarkovModel has been renamed to MarkovNetwork. Please use MarkovNetwork class, MarkovModel will be removed in future.\n",
      "  warnings.warn(\n"
     ]
    },
    {
     "name": "stdout",
     "output_type": "stream",
     "text": [
      "Dev Thresholds: [0.844, 0.864, 0.854, 0.844, 0.844, 0.844, 0.844, 0.804, 0.844, 0.844]\n",
      "Dev Acc: 96.00%\tPre: 98.08%\tRec: 94.44%\tF1: 96.23%\n",
      "Test Thresholds: [0.844, 0.864, 0.854, 0.844, 0.844, 0.844, 0.844, 0.804, 0.844, 0.844]\n",
      "Test Acc: 93.60%\tPre: 93.97%\tRec: 92.37%\tF1: 93.16%\n"
     ]
    }
   ],
   "source": [
    "thresholds = cfg['thresholds']\n",
    "\n",
    "liger = Liger()\n",
    "L_train_expanded = liger.expand_lfs(\n",
    "    L_train_raw_orig, L_train_raw_orig, avg_embeddings_train, avg_embeddings_train,\n",
    "    thresholds = thresholds)\n",
    "L_dev_expanded = liger.expand_lfs(\n",
    "    L_train_raw_orig, L_dev_raw_orig, avg_embeddings_train, avg_embeddings_dev,\n",
    "    thresholds = thresholds)\n",
    "L_test_expanded = liger.expand_lfs(\n",
    "    L_train_raw_orig, L_test_raw_orig, avg_embeddings_train, avg_embeddings_test,\n",
    "    thresholds = thresholds)\n",
    "\n",
    "L_train = L_train_expanded[:L_train_expanded.shape[0] - (L_train_expanded.shape[0] % T)]\n",
    "L_dev = L_dev_expanded[:L_dev_expanded.shape[0] - (L_dev_expanded.shape[0] % T)]\n",
    "L_test = L_test_expanded[:L_test_expanded.shape[0] - (L_test_expanded.shape[0] % T)]\n",
    "Y_dev = Y_dev_raw[:Y_dev_raw.shape[0] - (Y_dev_raw.shape[0] % T)]\n",
    "Y_test = Y_test_raw[:Y_test_raw.shape[0] - (Y_test_raw.shape[0] % T)]\n",
    "\n",
    "m_per_task = L_train.shape[1]\n",
    "\n",
    "m = T * m_per_task\n",
    "v = T\n",
    "\n",
    "kmeans, embedding_groups, train_cluster_labels = cluster_embeddings(avg_embeddings_train, n_clusters)\n",
    "dev_cluster_labels = kmeans.predict(avg_embeddings_dev)\n",
    "test_cluster_labels = kmeans.predict(avg_embeddings_test) \n",
    "cluster_models = []\n",
    "\n",
    "for i in range(len(embedding_groups)):\n",
    "    cluster_models.append(Flyingsquid_Cluster(X=embedding_groups[i], mu=kmeans.cluster_centers_[i], T=T, m_per_task=m_per_task))\n",
    "    \n",
    "outputs = evaluate_thresholds(thresholds, cluster_models, neg_balances_to_try, \\\n",
    "    L_train_expanded, L_dev_expanded, L_test_expanded, \\\n",
    "    Y_dev_raw, Y_test_raw, train_cluster_labels, dev_cluster_labels, test_cluster_labels,\\\n",
    "    evaluate_test=False, tune_test=True, tune_by=tune_by)"
   ]
  }
 ],
 "metadata": {
  "kernelspec": {
   "display_name": "liger",
   "language": "python",
   "name": "liger"
  },
  "language_info": {
   "codemirror_mode": {
    "name": "ipython",
    "version": 3
   },
   "file_extension": ".py",
   "mimetype": "text/x-python",
   "name": "python",
   "nbconvert_exporter": "python",
   "pygments_lexer": "ipython3",
   "version": "3.10.4"
  }
 },
 "nbformat": 4,
 "nbformat_minor": 5
}
